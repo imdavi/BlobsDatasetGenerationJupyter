{
 "cells": [
  {
   "cell_type": "code",
   "execution_count": 1,
   "metadata": {},
   "outputs": [],
   "source": [
    "from sklearn.datasets import make_blobs\n",
    "from pandas import DataFrame\n",
    "from os import mkdir\n",
    "from os.path import isdir, join\n",
    "from datetime import datetime"
   ]
  },
  {
   "cell_type": "code",
   "execution_count": 2,
   "metadata": {
    "tags": []
   },
   "outputs": [],
   "source": [
    "RANDOM_STATE = 435\n",
    "\n",
    "def generate_dataset_data_frame(n_samples: int, n_features:int, centers: int) -> DataFrame:\n",
    "    samples, labels = make_blobs(n_samples=n_samples, centers=centers, n_features=n_features, random_state=RANDOM_STATE)\n",
    "\n",
    "    columns = list(map(lambda number: ('Column ' + str(number+1)),  range(0, n_features)))\n",
    "\n",
    "    return DataFrame(data = samples, columns=columns)    "
   ]
  },
  {
   "cell_type": "code",
   "execution_count": 3,
   "metadata": {},
   "outputs": [],
   "source": [
    "SAMPLES_OUTPUT_DIR = './generated-datasets'\n",
    "CSV_EXTENSION = '.csv'\n",
    "CSV_SEPARATOR = ','\n",
    "DEFAULT_CSV_ENCODING = 'utf-8'\n",
    "\n",
    "def create_directory_if_not_exist(directory_path):\n",
    "    if not isdir(directory_path):\n",
    "        mkdir(directory_path)\n",
    "\n",
    "def save_data_frame_to_csv(data_frame: DataFrame, file_name: str):\n",
    "    create_directory_if_not_exist(SAMPLES_OUTPUT_DIR)\n",
    "\n",
    "    file_path = join(SAMPLES_OUTPUT_DIR, file_name + CSV_EXTENSION)\n",
    "\n",
    "    data_frame.to_csv(file_path, index = True, encoding=DEFAULT_CSV_ENCODING, sep=CSV_SEPARATOR)"
   ]
  },
  {
   "cell_type": "code",
   "execution_count": 4,
   "metadata": {
    "tags": []
   },
   "outputs": [
    {
     "output_type": "stream",
     "name": "stdout",
     "text": "Generated a dataset with 100 rows and 20 columns.\nGenerated a dataset with 1000 rows and 20 columns.\nGenerated a dataset with 5000 rows and 20 columns.\nGenerated a dataset with 10000 rows and 20 columns.\nGenerated a dataset with 50000 rows and 20 columns.\nGenerated a dataset with 100000 rows and 20 columns.\nGenerated a dataset with 250000 rows and 20 columns.\nGenerated a dataset with 500000 rows and 20 columns.\nGenerated a dataset with 1000000 rows and 20 columns.\n"
    }
   ],
   "source": [
    "AMOUNT_OF_FEATURES = 20\n",
    "\n",
    "AMOUNT_OF_CENTERS = 5\n",
    "\n",
    "DESIRED_SAMPLES_SIZES = [100, 1000, 5000, 10000, 50000, 100000, 250000, 500000, 1000000] \n",
    "\n",
    "current_time = datetime.now()\n",
    "\n",
    "formatted_time = current_time.strftime(\"%d%b%Y%H%M%S\")\n",
    "\n",
    "for n_samples in DESIRED_SAMPLES_SIZES:\n",
    "    data_frame = generate_dataset_data_frame(n_samples = n_samples, n_features=AMOUNT_OF_FEATURES, centers=AMOUNT_OF_CENTERS)\n",
    "\n",
    "    file_name = 'dataset_' + str(n_samples) + 'x' + str(AMOUNT_OF_FEATURES) + '_' + formatted_time\n",
    "\n",
    "    save_data_frame_to_csv(data_frame= data_frame, file_name=file_name)\n",
    "\n",
    "    print('Generated a dataset with ' + str(n_samples) + ' rows and ' +  str(AMOUNT_OF_FEATURES) + ' columns.')\n"
   ]
  },
  {
   "cell_type": "code",
   "execution_count": null,
   "metadata": {},
   "outputs": [],
   "source": []
  }
 ],
 "metadata": {
  "kernelspec": {
   "display_name": "Python 3",
   "language": "python",
   "name": "python3"
  },
  "language_info": {
   "codemirror_mode": {
    "name": "ipython",
    "version": 3
   },
   "file_extension": ".py",
   "mimetype": "text/x-python",
   "name": "python",
   "nbconvert_exporter": "python",
   "pygments_lexer": "ipython3",
   "version": "3.8.5-final"
  }
 },
 "nbformat": 4,
 "nbformat_minor": 4
}